{
 "cells": [
  {
   "cell_type": "markdown",
   "metadata": {},
   "source": [
    "# 標題(以#開頭）\n",
    "在單元格以 # 標記開頭，表示這是一個一級標題：\n",
    "    #: 一級標題\n",
    "    ##: 二級標題\n",
    "    ###: 三級標題\n",
    "    ...\n",
    "\n",
    "### Example:"
   ]
  },
  {
   "cell_type": "markdown",
   "metadata": {},
   "source": [
    "    # 一級標題\n",
    "# 一級標題\n",
    "    ## 二級標題\n",
    "## 二級題\n",
    "    ### 三級標題\n",
    "### 三級標題"
   ]
  },
  {
   "cell_type": "markdown",
   "metadata": {},
   "source": [
    "### Output:  \n",
    "    # 一級標題\n",
    "# 一級標題\n",
    "    ## 二級標題\n",
    "## 二級題\n",
    "    ### 三級標題\n",
    "### 三級標題"
   ]
  },
  {
   "cell_type": "markdown",
   "metadata": {},
   "source": [
    "******\n",
    "# 快捷鍵\n",
    "ctrl+m -> m ==> 切換到 markdown\n",
    "\n",
    "shift+enter ==> 執行Cell"
   ]
  },
  {
   "cell_type": "markdown",
   "metadata": {},
   "source": [
    "******\n",
    "# 行內 HTML\n",
    "* 不在Markdown涵蓋範圍之外的標籤，都可以直接在文件裡面用HTML撰寫。\n",
    "* 只有區塊元素，如：<div\\>, <table\\>, <pre\\>, <p\\>等標籤，必需在前後加上空行，以利與內容區隔。而且這些元素的開始與結尾標籤，不可以用tab或空格來縮排。\n",
    "* Markdown語法在HTML區塊標籤中將不會被進行處理。\n",
    "\n",
    "\n",
    "\n",
    "### Example:\n",
    "\n",
    "    This is a regular paragraph.\n",
    "    \n",
    "    <table>\n",
    "        <tr>\n",
    "            <td>Foo</td>\n",
    "        </tr>\n",
    "    </table>\n",
    "    \n",
    "    This is another regular paragraph.\n",
    "\n",
    "### output:\n"
   ]
  },
  {
   "cell_type": "markdown",
   "metadata": {},
   "source": [
    "This is a regular paragraph.\n",
    "\n",
    "<table>\n",
    "    <tr>\n",
    "        <td>Foo</td>\n",
    "    </tr>\n",
    "</table>\n",
    "\n",
    "This is another regular paragraph.\n"
   ]
  },
  {
   "cell_type": "markdown",
   "metadata": {},
   "source": []
  },
  {
   "cell_type": "markdown",
   "metadata": {},
   "source": [
    "******\n",
    "# 支持 LaTex 語法\n",
    "### Example\n",
    "    $$\\int_0^{+\\infty}x^2dx$$   \n",
    "\n",
    "\n",
    "### Output\n",
    "$$\\int_0^{+\\infty}x^2dx$$"
   ]
  },
  {
   "cell_type": "markdown",
   "metadata": {},
   "source": [
    "******   \n",
    "# 導出功能\n",
    "可以將 notebook 導出為多種格式：\n",
    "* HTML\n",
    "* Markdown\n",
    "* ReST\n",
    "* PDF(通過 LaTeX)\n",
    "* Raw Python"
   ]
  },
  {
   "cell_type": "markdown",
   "metadata": {},
   "source": [
    "******\n",
    "# 段落和換行\n",
    "在行尾加上兩個以上的空白，然後按enter。  \n",
    "如下:  \n",
    "    abc  \n",
    "    def  \n",
    "abc後面沒加空間會輸出 abc def  \n",
    "    abc  \n",
    "    def  \n",
    "abc後面加空間會輸出  \n",
    "abc  \n",
    "def"
   ]
  },
  {
   "cell_type": "markdown",
   "metadata": {},
   "source": [
    "******\n",
    "# 區塊引言\n",
    "在每行的最前面加上 >  \n",
    "### Example:  \n",
    "\\> This is a block quote with two paragraphs.  \n",
    "### output:  \n",
    "> This is a block quote with two paragraphs.  \n",
    "\n",
    "### Example:  \n",
    "\\>> This is a block quote with two paragraphs.  \n",
    "### output:  \n",
    ">> This is a block quote with two paragraphs.\n",
    "\n",
    "### Example:  \n",
    "\\> # This is a header.  \n",
    "\\>\n",
    "\\> 1. this is the first list item.  \n",
    "\\> 2. this is the second list item.  \n",
    "### output:  \n",
    "> # This is a header.  \n",
    ">\n",
    "> 1. this is the first list item.  \n",
    "> 2. this is the second list item.  \n"
   ]
  },
  {
   "cell_type": "markdown",
   "metadata": {},
   "source": [
    "******\n",
    "# 清單\n",
    "支援有序清單和無序清單  \n",
    "## 無序清單\n",
    "使用 *, + 或是 - 作為清單標記  \n",
    "### Example  \n",
    "\n",
    "\\* Red   \n",
    "\\* Green   \n",
    "\\* Blue   \n",
    "### output  \n",
    "* Red\n",
    "* Green\n",
    "* Blue  \n",
    "\n",
    "## 有序清單\n",
    "使用數字接著一個英文句點\n",
    "1. Bird\n",
    "2. McHale\n",
    "3. Parish\n"
   ]
  },
  {
   "cell_type": "markdown",
   "metadata": {},
   "source": [
    "清單項目標記通常是放在最左邊，但也可縮排，最多三個空白  \n",
    "項目標記後面則一定要接著至少一個空白或tab  \n",
    "### Example:  \n",
    "\\* line1(後面2個空格，下一行會自動縮排）  \n",
    "line2  \n",
    "### Output:  \n",
    "* line1(後面2個空格，下一行會自動縮排）  \n",
    "line2"
   ]
  },
  {
   "cell_type": "markdown",
   "metadata": {},
   "source": [
    "清單項目可以包含多個段落，每個項目下的段落都必須縮排4個空格或是一個tab(每行後面記得加兩個空格）  \n",
    "1. This is a list item with two paragraphs. Lorem ipsum dolor  \n",
    "   sit amet, consectetuer adipiscing elit. Aliquam hendrerit  \n",
    "   mi posuere lectus.  \n",
    "   \n",
    "   Vestibulum wisi, viverra nec, fringilla in, laoreet  \n",
    "   vitae, risus.  \n",
    "\n",
    "如果要放程式碼區塊的話，該區塊就需要縮排兩次，也就是八個空白或2個tab   \n",
    "* A list item with a code block:  \n",
    "    <code goes here>  "
   ]
  },
  {
   "cell_type": "markdown",
   "metadata": {},
   "source": [
    "******\n",
    "# 程式碼區塊\n",
    "Markdown會用 <pre\\> 和 <code\\>標籤把程式碼區塊包起來。  \n",
    "要在Markdown中建立程式碼區塊很簡單，只要縮排4個空白或1個tab就可以  \n",
    "程式碼區塊中，一般的Markdown語法不會被轉換\n",
    "<code>\n",
    "    tell application \"Foo\"  \n",
    "        beep  \n",
    "    end tell  \n",
    "</code>"
   ]
  },
  {
   "cell_type": "markdown",
   "metadata": {},
   "source": [
    "******\n",
    "# 分隔線\n",
    "在一行中用三個或以上的星號（*）, 減號(-), 底線(_)來建立一個分隔線，行內不能有其他東西。  \n",
    "也可以在星號（*）中間插入空白\n",
    "\n",
    "\\* \\* \\*\n",
    "* * *  \n",
    "\n",
    "\\***\n",
    "***  \n",
    "\n",
    "\\*\\*\\*\\*\\*\\*\n",
    "******  \n",
    "\n",
    "\\- \\- \\-\n",
    "- - -\n",
    "\n",
    "\\-\\-\\-\\-\\-\\-\\-\\-\\-\\-\\-\\-\\-\\-  \n",
    "\n",
    "--------------------------------------------------------------"
   ]
  },
  {
   "cell_type": "markdown",
   "metadata": {},
   "source": [
    "******\n",
    "# 區段元素\n",
    "## 連結\n",
    "支援兩種形式的連結語法： 行內 和 參考  \n",
    "連結的文字都是用[方括號]來標記\n",
    "\n",
    "### 行內\n",
    "只要在方括號後面馬上接著括號（）並插入網址連結即可。\n",
    "如果你還想要加上連結的title文字，只要在網址後面，用雙引號把title文字包起來即可。\n",
    "\n",
    "#### Example:  \n",
    "\n",
    "    This is \\[an example](http://example.com/ \"Title\") inline link.  \n",
    "\n",
    "    [This link](http://example.net/) has no title attribute.    \n",
    "\n",
    "#### Output:  \n",
    "This is [an example](http://example.com/ \"Title\") inline link.  \n",
    "\n",
    "[This link](http://example.net/) has no title attribute.  \n",
    "\n",
    "- - -\n",
    "如果你是要連結到同樣主機的資源，你可以使用相對路徑\n",
    "#### Example:  \n",
    "    See my \\[About](/about/) page for detials.  \n",
    "#### Output:  \n",
    "See my [About](/about/) page for detials.  \n",
    "\n",
    "### 參考\n",
    "使用另外一個方括號接在連結文字的括號後面，而在第二個方括號裡面要填入用以辨識連結的標籤。  \n",
    "接著在文件的任意處，你可以把這個標籤的連結內容定義出來。  \n",
    "連結定義的形式為：\n",
    "* 方括號，裡面輸入連結的辨識用標籤\n",
    "* 接著一個冒號\n",
    "* 接著一個以上的空白或tab\n",
    "* 接著連結的網址\n",
    "* 選擇性地接著title內容，可以用單引號, 雙引號 或是 括弧包著\n",
    "* 連結標籤名稱不區分大小寫\n",
    "* 預設的連結標籤功能讓你可以省略指定連結標籤，這種情形下，連結標籤和連結文字會視為相同。\n",
    "\n",
    "#### Example:  \n",
    "    This is \\[an example][id] reference-style link.  \n",
    "    \n",
    "    \\[id]: http://example.com/ \"Optional Title Here\"  \n",
    "    \\[id]: http://example.com/ 'Optional Title Here'  \n",
    "    \\[id]: http://example.com/ (Optional Title Here)  \n",
    "    \\[id]: <http://example.com/> \"Optional Title Here\"  \n",
    "    \\[id]: http://example.com/ \"Optional Title Here\"  \n",
    "    \n",
    "#### output:  \n",
    "This is [an example][id] reference-style link.\n",
    "\n",
    "[id]: http://example.com/ \"Optional Title Here\""
   ]
  },
  {
   "cell_type": "markdown",
   "metadata": {},
   "source": [
    "#### Example:    \n",
    "I get 10 times more traffic from [Google][1] than from   \n",
    "[Yahoo][2] or [MSN][3]\n",
    "\n",
    "  [1]: http://google.com/        \"Google\"\n",
    "  [2]: http://search.yahoo.com/  \"Yahoo Search\"\n",
    "  [3]: http://search.msn.com/    \"MSN Search\""
   ]
  },
  {
   "cell_type": "markdown",
   "metadata": {},
   "source": [
    "#### Example:  \n",
    "I get 10 times more traffic from [Google][] than from   \n",
    "[Yahoo][] or [MSN][]\n",
    "\n",
    "  [Google]: http://google.com/        \"Google\"\n",
    "  [Yahoo]: http://search.yahoo.com/  \"Yahoo Search\"\n",
    "  [MSN]: http://search.msn.com/    \"MSN Search\""
   ]
  },
  {
   "cell_type": "markdown",
   "metadata": {},
   "source": [
    "#### Example:\n",
    "I get 10 times more traffic from [Google](http://google.com/ \"Google\")   \n",
    "than from [Yahoo](http://search.yahoo.com/ \"Yahoo Search\") or   \n",
    "[MSN](http://search.msn.com/ \"MSN Search\")."
   ]
  },
  {
   "cell_type": "markdown",
   "metadata": {},
   "source": [
    "******\n",
    "# 強調\n",
    "使用星號(*)和底線(_)作為標記強調字詞的符號  \n",
    "### Example:  \n",
    "\n",
    "\\*single asterisks*  \n",
    "\\_single underscores_  \n",
    "\\**double asterisks**  \n",
    "\\__double underscores__  \n",
    "\n",
    "### Output:\n",
    "*single asterisks*  \n",
    "_single underscores_  \n",
    "**double asterisks**  \n",
    "__double underscores__  \n",
    "\n",
    "強調也可以直接插在文字中間  \n",
    "### Example:  \n",
    "\n",
    "un\\*frigging\\*believable\n",
    "\n",
    "### Output:  \n",
    "\n",
    "un*frigging*believable"
   ]
  },
  {
   "cell_type": "markdown",
   "metadata": {},
   "source": [
    "# 程式碼\n",
    "如果要標記一小段行內程式碼，你可以用反引號(\\`)把它包起來。\n",
    "\n",
    "### Example:  \n",
    "\n",
    "Use the \\`printf()\\` function.  \n",
    "\n",
    "### output:  \n",
    "Use the `printf()` function.  \n",
    "\n",
    "如果要在程式碼區段內插入反引號(\\`)，你可以用多個反引號(\\`)來開啟和結束程式碼區段:  \n",
    "### Example:  \n",
    "\\`\\`There is a literal backtick (') here.''  \n",
    "\n",
    "### output:  \n",
    "``There is a literal backtick (') here.''  "
   ]
  },
  {
   "cell_type": "markdown",
   "metadata": {},
   "source": [
    "# 圖片\n",
    "跟連結很相似的語法來標記圖片，同樣也允許兩種樣式: 行內 和 參考  \n",
    "## 行內圖片\n",
    "\\!\\[Alt text\\](/path/to/img.jpg)  \n",
    "\\!\\[Alt text\\](/path/to/img.jpg \"Optional title\")  \n",
    "\n",
    "詳述如下:\n",
    "* 一個驚嘆號\n",
    "* 接著一個方括號，裡面放上圖片的替代文字\n",
    "* 接著一個普通括號，裡面放上圖片的網址，最後還可以用引號包住並加上選擇性的\"title\"文字。\n",
    "\n",
    "## 參考圖片\n",
    "\\!\\[Alt text\\][id]  \n",
    "\\[id]: url/to/image \"Optional title attribute\"  \n",
    "\n",
    "Markdown還沒有辦法指定圖片的寬高，如果需要，可以使用普通的<img\\>標籤"
   ]
  },
  {
   "cell_type": "markdown",
   "metadata": {},
   "source": [
    "## 插入圖片\n",
    "單元格接受 HTML 代碼\n",
    "### Example\n",
    "\n",
    "    <img src=\"http://blog.jupyter.org/content/images/2015/02/jupyter-sq-text.png\"\n",
    "    style=\"width:100px;height:100px;float:left\">   \n",
    "\n",
    "### Output   \n",
    "\n",
    "<img src=\"http://blog.jupyter.org/content/images/2015/02/jupyter-sq-text.png\" style=\"width:100px;height:100px;float:left\">   "
   ]
  },
  {
   "cell_type": "markdown",
   "metadata": {},
   "source": [
    "# 自動連結\n",
    "支援比較簡短的自動連結形式來處理網址和電子郵件信箱，只要是用角括號〈〉包起來，Markdown就會自動把它轉成連結，連結的文字就和連結位置一樣。\n",
    "<http://example.com/>"
   ]
  },
  {
   "cell_type": "markdown",
   "metadata": {},
   "source": [
    "# 跳脫字元\n",
    "可以利用反斜線(\\)來插入一些在語法中有其他意義的符號。"
   ]
  },
  {
   "cell_type": "code",
   "execution_count": null,
   "metadata": {},
   "outputs": [],
   "source": []
  }
 ],
 "metadata": {
  "kernelspec": {
   "display_name": "Python [conda env:Anaconda3]",
   "language": "python",
   "name": "conda-env-Anaconda3-py"
  },
  "language_info": {
   "codemirror_mode": {
    "name": "ipython",
    "version": 3
   },
   "file_extension": ".py",
   "mimetype": "text/x-python",
   "name": "python",
   "nbconvert_exporter": "python",
   "pygments_lexer": "ipython3",
   "version": "3.5.5"
  }
 },
 "nbformat": 4,
 "nbformat_minor": 2
}
